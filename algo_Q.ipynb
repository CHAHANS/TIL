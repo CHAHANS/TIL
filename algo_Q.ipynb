{
 "cells": [
  {
   "cell_type": "code",
   "execution_count": null,
   "metadata": {},
   "outputs": [],
   "source": [
    "def change(k , cnt, number):\n",
    "    global ans\n",
    "    if cnt == 0:\n",
    "        ans = max(ans, int(''.join(number)))\n",
    "        return\n",
    "    else:\n",
    "        for i in range(k, len(number)):\n",
    "            for j in range(i+1, len(number)):\n",
    "                if int(number[i]) <= int(number[j]):\n",
    "                    number[i], number[j] = number[j], number[i]\n",
    "                    change(i, cnt-1,number)\n",
    "                    number[i], number[j] = number[j], number[i]\n",
    " \n",
    "for tc in range(1, int(input())+1):\n",
    "    pan, chg_str = input().split()\n",
    "    arr = [i for i in pan]\n",
    "    chg = int(chg_str)\n",
    "    ans = 1\n",
    "    change(0, chg, arr)\n",
    "    print('#{} {}'.format(tc, ans))"
   ]
  },
  {
   "cell_type": "code",
   "execution_count": null,
   "metadata": {},
   "outputs": [],
   "source": [
    "# N일간 활동일정 정하기\n",
    "# 4명이서 활동에 참여할지 말지..\n",
    "# 2명씩"
   ]
  },
  {
   "cell_type": "code",
   "execution_count": 209,
   "metadata": {},
   "outputs": [
    {
     "name": "stdout",
     "output_type": "stream",
     "text": [
      "5076\n"
     ]
    }
   ],
   "source": [
    "\n",
    "numbers={}\n",
    "count=1\n",
    "data=1692\n",
    "while len(numbers.keys()) < 10:\n",
    "    n = data*count\n",
    "    for i in str(n):\n",
    "        numbers[i]=i\n",
    "    \n",
    "print(count*data)\n",
    "\n",
    "# T = int(input())\n",
    "# for test_case in range(1, T + 1):\n",
    "#     data = int(input())\n",
    "#     numbers={}\n",
    "#     count=0\n",
    "#     while len(numbers.keys()) < 10:\n",
    "#         count+=1\n",
    "#         n = data*count\n",
    "#         for i in str(n):\n",
    "#             numbers[i]=i\n",
    "#     print(f'#{test_case} {count}')\n",
    "        "
   ]
  },
  {
   "cell_type": "code",
   "execution_count": 1,
   "metadata": {},
   "outputs": [],
   "source": [
    "#암호\n",
    "\n",
    "# 암호의 길이 N 2000 <= N <=4000\n",
    "len_pw = int(input())\n",
    "pw_data = input()\n",
    "order_n = int(input())\n"
   ]
  },
  {
   "cell_type": "code",
   "execution_count": 6,
   "metadata": {},
   "outputs": [],
   "source": [
    "orders = map(str, input().split(' '))"
   ]
  },
  {
   "cell_type": "code",
   "execution_count": 7,
   "metadata": {},
   "outputs": [
    {
     "data": {
      "text/plain": [
       "<map at 0x1f505816550>"
      ]
     },
     "execution_count": 7,
     "metadata": {},
     "output_type": "execute_result"
    }
   ],
   "source": [
    "orders"
   ]
  },
  {
   "cell_type": "code",
   "execution_count": null,
   "metadata": {},
   "outputs": [],
   "source": [
    "# 1. I(삽입) x, y, s : 앞에서부터 x의 위치 바로 다음에 y개의 숫자를 삽입한다. s는 덧붙일 숫자들이다.[ ex) I 3 2 123152 487651 ]\n",
    "# 2. D(삭제) x, y : 앞에서부터 x의 위치 바로 다음부터 y개의 숫자를 삭제한다.[ ex) D 4 4 ]\n",
    "# 3. A(추가) y, s : 암호문의 맨 뒤에 y개의 숫자를 덧붙인다. s는 덧붙일 숫자들이다. [ ex) A 2 421257 796813 ]\n",
    "\n",
    "if I"
   ]
  }
 ],
 "metadata": {
  "kernelspec": {
   "display_name": "py3_8_5",
   "language": "python",
   "name": "python3"
  },
  "language_info": {
   "codemirror_mode": {
    "name": "ipython",
    "version": 3
   },
   "file_extension": ".py",
   "mimetype": "text/x-python",
   "name": "python",
   "nbconvert_exporter": "python",
   "pygments_lexer": "ipython3",
   "version": "3.8.5 (default, Sep  3 2020, 21:29:08) [MSC v.1916 64 bit (AMD64)]"
  },
  "orig_nbformat": 4,
  "vscode": {
   "interpreter": {
    "hash": "f289d1f7e46a4595ba777b1b5a4c5c639abf8197b268912e1c6480b47a2cd734"
   }
  }
 },
 "nbformat": 4,
 "nbformat_minor": 2
}
