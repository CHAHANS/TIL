{
 "cells": [
  {
   "cell_type": "code",
   "execution_count": 1,
   "metadata": {},
   "outputs": [],
   "source": [
    "import my_linear_algebra as mla"
   ]
  },
  {
   "cell_type": "code",
   "execution_count": 27,
   "metadata": {},
   "outputs": [],
   "source": [
    "A = [[1,2],[3,4]]"
   ]
  },
  {
   "cell_type": "code",
   "execution_count": 28,
   "metadata": {},
   "outputs": [
    {
     "data": {
      "text/plain": [
       "[[1, 2], [3, 4]]"
      ]
     },
     "execution_count": 28,
     "metadata": {},
     "output_type": "execute_result"
    }
   ],
   "source": [
    "mla.deepcopy(A)"
   ]
  },
  {
   "attachments": {},
   "cell_type": "markdown",
   "metadata": {},
   "source": [
    "# 벡터의 사칙연산"
   ]
  },
  {
   "cell_type": "code",
   "execution_count": 29,
   "metadata": {},
   "outputs": [
    {
     "name": "stdout",
     "output_type": "stream",
     "text": [
      "[5, 7, 9]\n",
      "[5, 7, 9]\n"
     ]
    }
   ],
   "source": [
    "# 벡터의 덛셈\n",
    "u = [1,2,3]\n",
    "v = [4,5,6]\n",
    "\n",
    "n = len(u)\n",
    "w = []\n",
    "\n",
    "for i in range(0, n):\n",
    "    val = u[i] + v[i]\n",
    "    w.append(val)\n",
    "\n",
    "print(w)\n",
    "# 함수로 저장\n",
    "print(mla.v_add(u, v))"
   ]
  },
  {
   "cell_type": "code",
   "execution_count": 2,
   "metadata": {},
   "outputs": [
    {
     "name": "stdout",
     "output_type": "stream",
     "text": [
      "[5, -2, 2]\n"
     ]
    },
    {
     "data": {
      "text/plain": [
       "[5, -2, 2]"
      ]
     },
     "execution_count": 2,
     "metadata": {},
     "output_type": "execute_result"
    }
   ],
   "source": [
    "u = [7, 3, 9]\n",
    "v = [2, 5, 7]\n",
    "\n",
    "n = len(u)\n",
    "w = []\n",
    "\n",
    "for i in range(0, n):\n",
    "    val = u[i] - v[i]\n",
    "    w.append(val)\n",
    "\n",
    "print(w)\n",
    "# 뺄셈 함수 구현\n",
    "# print()\n",
    "mla.v_subtract(u, v)"
   ]
  },
  {
   "cell_type": "code",
   "execution_count": 3,
   "metadata": {},
   "outputs": [
    {
     "name": "stdout",
     "output_type": "stream",
     "text": [
      "[6, 12, 9]\n"
     ]
    },
    {
     "data": {
      "text/plain": [
       "[6, 12, 9]"
      ]
     },
     "execution_count": 3,
     "metadata": {},
     "output_type": "execute_result"
    }
   ],
   "source": [
    "u = [2, 4, 3]\n",
    "a = 3\n",
    "\n",
    "n = len(u)\n",
    "w = []\n",
    "\n",
    "for i in range(0, n):\n",
    "    val = a * u[i]\n",
    "    w.append(val)\n",
    "\n",
    "print(w)\n",
    "mla.scalar_v_mul(a,u)"
   ]
  },
  {
   "cell_type": "code",
   "execution_count": null,
   "metadata": {},
   "outputs": [],
   "source": [
    "u = [1, 2, 4]\n",
    "v = [7, 3, 2]\n",
    "\n",
    "n = len(u)\n",
    "w = []\n",
    "\n",
    "for i in range(0, n):\n",
    "    val = u[i] * v[i]\n",
    "    w.append(val)\n",
    "\n",
    "print(w)\n",
    "print(mla.v_mul(u,v))\n",
    "# 원소 나눗셈은 생략"
   ]
  },
  {
   "attachments": {},
   "cell_type": "markdown",
   "metadata": {},
   "source": [
    "# 넘파이 실습"
   ]
  },
  {
   "cell_type": "code",
   "execution_count": 14,
   "metadata": {},
   "outputs": [],
   "source": [
    "import numpy as np"
   ]
  },
  {
   "cell_type": "code",
   "execution_count": 16,
   "metadata": {},
   "outputs": [
    {
     "name": "stdout",
     "output_type": "stream",
     "text": [
      "[5 7 9]\n"
     ]
    }
   ],
   "source": [
    "u = np.array([1,2,3])\n",
    "v = np.array([4,5,6])\n",
    "w = u+v\n",
    "print(w)"
   ]
  },
  {
   "cell_type": "code",
   "execution_count": 19,
   "metadata": {},
   "outputs": [
    {
     "name": "stdout",
     "output_type": "stream",
     "text": [
      "[ 5 -2  2]\n"
     ]
    }
   ],
   "source": [
    "u = np.array([7,3,9])\n",
    "v = np.array([2,5,7])\n",
    "w= u-v\n",
    "print(w)"
   ]
  },
  {
   "cell_type": "code",
   "execution_count": 20,
   "metadata": {},
   "outputs": [
    {
     "name": "stdout",
     "output_type": "stream",
     "text": [
      "[ 3  6 12]\n"
     ]
    }
   ],
   "source": [
    "a = 3\n",
    "u = np.array([1,2,4])\n",
    "w = a * u\n",
    "print(w)"
   ]
  },
  {
   "cell_type": "code",
   "execution_count": 21,
   "metadata": {},
   "outputs": [
    {
     "name": "stdout",
     "output_type": "stream",
     "text": [
      "[7 6 8]\n"
     ]
    }
   ],
   "source": [
    "u = np.array([1,2,4])\n",
    "v = np.array([7,3,2])\n",
    "w = u*v\n",
    "print(w)"
   ]
  },
  {
   "cell_type": "code",
   "execution_count": 22,
   "metadata": {},
   "outputs": [
    {
     "name": "stdout",
     "output_type": "stream",
     "text": [
      "[ 3.   2.5 -3. ]\n"
     ]
    }
   ],
   "source": [
    "u = np.array([6,5,9])\n",
    "v = np.array([2,2,-3])\n",
    "w = u/v\n",
    "print(w)"
   ]
  },
  {
   "cell_type": "code",
   "execution_count": 2,
   "metadata": {},
   "outputs": [
    {
     "name": "stdout",
     "output_type": "stream",
     "text": [
      "[[3, 11], [7, 3], [8, 6]]\n"
     ]
    }
   ],
   "source": [
    "A = [[2,7],[3,4],[6,1]]\n",
    "B = [[1,4],[4,-1],[2,5]]\n",
    "\n",
    "n = len(A)\n",
    "p = len(A[0])\n",
    "\n",
    "res =[]\n",
    "\n",
    "for i in range(0,n):\n",
    "    row=[]\n",
    "    for j in range(0,p):\n",
    "        val = A[i][j] + B[i][j]\n",
    "        row.append(val)\n",
    "    res.append(row)\n",
    "\n",
    "print(res)"
   ]
  },
  {
   "cell_type": "code",
   "execution_count": 16,
   "metadata": {},
   "outputs": [],
   "source": [
    "import numpy as np"
   ]
  },
  {
   "cell_type": "code",
   "execution_count": 18,
   "metadata": {},
   "outputs": [
    {
     "name": "stdout",
     "output_type": "stream",
     "text": [
      "[[ 4 14]\n",
      " [ 6  8]\n",
      " [12  2]]\n"
     ]
    }
   ],
   "source": [
    "#행렬 스칼라 곱\n",
    "A = np.array([[2,7], [3,4], [6,1]])\n",
    "b = 2\n",
    "C = A*b\n",
    "print(C)"
   ]
  },
  {
   "cell_type": "code",
   "execution_count": 20,
   "metadata": {},
   "outputs": [
    {
     "name": "stdout",
     "output_type": "stream",
     "text": [
      "[[ 5 -5]\n",
      " [ 6  8]\n",
      " [ 8  7]]\n"
     ]
    }
   ],
   "source": [
    "#행렬의 원소 곱\n",
    "A = np.array([[1, 5], [6, 4], [2, 7]])\n",
    "B = np.array([[5, -1], [1, 2], [4, 1]])\n",
    "C = np.multiply(A, B)\n",
    "print(C)"
   ]
  },
  {
   "cell_type": "code",
   "execution_count": 21,
   "metadata": {},
   "outputs": [
    {
     "data": {
      "text/plain": [
       "array([[ 5, -5],\n",
       "       [ 6,  8],\n",
       "       [ 8,  7]])"
      ]
     },
     "execution_count": 21,
     "metadata": {},
     "output_type": "execute_result"
    }
   ],
   "source": [
    "#그냥해도 되는데?\n",
    "A*B"
   ]
  },
  {
   "cell_type": "code",
   "execution_count": 22,
   "metadata": {},
   "outputs": [
    {
     "name": "stdout",
     "output_type": "stream",
     "text": [
      "[[ -1   8   3]\n",
      " [  5  -1  11]\n",
      " [ 13 -11  23]]\n"
     ]
    }
   ],
   "source": [
    "A = np.array([[2, 7], [3, 4], [5, 2]])\n",
    "B = np.array([[3, -3, 5], [-1, 2, -1]])\n",
    "C =np.matmul(A, B)\n",
    "print(C)"
   ]
  },
  {
   "cell_type": "code",
   "execution_count": 4,
   "metadata": {},
   "outputs": [
    {
     "name": "stdout",
     "output_type": "stream",
     "text": [
      "[[1, 3, 6], [5, 4, 2]]\n"
     ]
    }
   ],
   "source": [
    "A= [[1,5],[3,4],[6,2]]\n",
    "n=len(A)\n",
    "p=len(A[0])\n",
    "C=[]\n",
    "for i in range(0, p):\n",
    "    row=[]\n",
    "    for j in range(0, n):\n",
    "        val = A[j][i]\n",
    "        row.append(val)\n",
    "    C.append(row)\n",
    "print(C)"
   ]
  },
  {
   "cell_type": "code",
   "execution_count": 2,
   "metadata": {},
   "outputs": [],
   "source": [
    "import numpy as np"
   ]
  },
  {
   "cell_type": "code",
   "execution_count": 7,
   "metadata": {},
   "outputs": [
    {
     "name": "stdout",
     "output_type": "stream",
     "text": [
      "[[1 3 6]\n",
      " [5 4 2]]\n"
     ]
    }
   ],
   "source": [
    "A=np.array([[1,5],[3,4],[6,2]])\n",
    "# At= A.T\n",
    "At = np.transpose(A)\n",
    "print(At)"
   ]
  },
  {
   "cell_type": "code",
   "execution_count": 8,
   "metadata": {},
   "outputs": [],
   "source": [
    "A = [[1,0,2],\n",
    "    [0,2,1],\n",
    "    [2,1,1]]"
   ]
  },
  {
   "cell_type": "code",
   "execution_count": 9,
   "metadata": {},
   "outputs": [
    {
     "name": "stdout",
     "output_type": "stream",
     "text": [
      "[[1, 0, 2], [0, 2, 1], [2, 1, 1]]\n"
     ]
    }
   ],
   "source": [
    "At = mla.transpose(A)\n",
    "print(At)"
   ]
  },
  {
   "cell_type": "code",
   "execution_count": 10,
   "metadata": {},
   "outputs": [
    {
     "data": {
      "text/plain": [
       "True"
      ]
     },
     "execution_count": 10,
     "metadata": {},
     "output_type": "execute_result"
    }
   ],
   "source": [
    "A==At"
   ]
  },
  {
   "cell_type": "code",
   "execution_count": 11,
   "metadata": {},
   "outputs": [
    {
     "name": "stdout",
     "output_type": "stream",
     "text": [
      "행렬 A의 2 제곱은 [[5, 2, 4], [2, 5, 3], [4, 3, 6]]\n",
      "행렬 A의 3 제곱은 [[13, 8, 16], [8, 13, 12], [16, 12, 17]]\n",
      "행렬 A의 4 제곱은 [[45, 32, 50], [32, 38, 41], [50, 41, 61]]\n",
      "행렬 A의 5 제곱은 [[145, 114, 172], [114, 117, 143], [172, 143, 202]]\n",
      "행렬 A의 6 제곱은 [[489, 400, 576], [400, 377, 488], [576, 488, 689]]\n",
      "행렬 A의 7 제곱은 [[1641, 1376, 1954], [1376, 1242, 1665], [1954, 1665, 2329]]\n",
      "행렬 A의 8 제곱은 [[5549, 4706, 6612], [4706, 4149, 5659], [6612, 5659, 7902]]\n",
      "행렬 A의 9 제곱은 [[18773, 16024, 22416], [16024, 13957, 19220], [22416, 19220, 26785]]\n",
      "행렬 A의 10 제곱은 [[63605, 54464, 75986], [54464, 47134, 65225], [75986, 65225, 90837]]\n"
     ]
    }
   ],
   "source": [
    "AA = A\n",
    "for i in range(0, 9):\n",
    "    AA = mla.matmul(AA, A)\n",
    "    print('행렬 A의', i+2, \"제곱은\", AA)"
   ]
  },
  {
   "cell_type": "code",
   "execution_count": 12,
   "metadata": {},
   "outputs": [
    {
     "name": "stdout",
     "output_type": "stream",
     "text": [
      "[[1, 0, 2], [0, 2, 1], [2, 1, 1]]\n",
      "[[1, 0, 2], [0, 2, 1], [2, 1, 1]]\n"
     ]
    }
   ],
   "source": [
    "print(A)\n",
    "print(At)"
   ]
  },
  {
   "cell_type": "code",
   "execution_count": 16,
   "metadata": {},
   "outputs": [
    {
     "name": "stdout",
     "output_type": "stream",
     "text": [
      "[[1, 0, 3], [2, 1, 4], [0, 1, 1]]\n",
      "[[1, 2, 0], [0, 1, 1], [3, 4, 1]]\n"
     ]
    }
   ],
   "source": [
    "A=[[1,0,3],[2,1,4],[0,1,1]]\n",
    "At = mla.transpose(A)\n",
    "print(A)\n",
    "print(At)"
   ]
  },
  {
   "cell_type": "code",
   "execution_count": 4,
   "metadata": {},
   "outputs": [
    {
     "name": "stdout",
     "output_type": "stream",
     "text": [
      "[[1, 0, 0], [0, 5, 0], [0, 0, 9]]\n"
     ]
    }
   ],
   "source": [
    "# A의 대각행렬구하기 \n",
    "A=[[1,2,3],[4,5,6],[7,8,9]]\n",
    "n = len(A)\n",
    "p = len(A[0])\n",
    "\n",
    "D=[]\n",
    "for i in range(n):\n",
    "    pwd=[]\n",
    "    for j in range(p):\n",
    "        if i==j:\n",
    "            pwd.append(A[i][j])\n",
    "        else:\n",
    "            pwd.append(0)\n",
    "    D.append(pwd)\n",
    "print(D)"
   ]
  },
  {
   "cell_type": "code",
   "execution_count": null,
   "metadata": {},
   "outputs": [],
   "source": [
    "#대각행렬 이후 작업 필요\n"
   ]
  }
 ],
 "metadata": {
  "kernelspec": {
   "display_name": "py3_8_5",
   "language": "python",
   "name": "python3"
  },
  "language_info": {
   "codemirror_mode": {
    "name": "ipython",
    "version": 3
   },
   "file_extension": ".py",
   "mimetype": "text/x-python",
   "name": "python",
   "nbconvert_exporter": "python",
   "pygments_lexer": "ipython3",
   "version": "3.8.5 (default, Sep  3 2020, 21:29:08) [MSC v.1916 64 bit (AMD64)]"
  },
  "orig_nbformat": 4,
  "vscode": {
   "interpreter": {
    "hash": "f289d1f7e46a4595ba777b1b5a4c5c639abf8197b268912e1c6480b47a2cd734"
   }
  }
 },
 "nbformat": 4,
 "nbformat_minor": 2
}
