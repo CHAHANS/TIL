{
 "cells": [
  {
   "attachments": {},
   "cell_type": "markdown",
   "metadata": {},
   "source": [
    "# Project에 필요해서 Yolo를 사용해봄\n",
    "- [Train Custom Data](https://github.com/ultralytics/yolov5/wiki/Train-Custom-Data) 깃에서 추천하는대로 따라함\n",
    "- 블로그보다가 [빵형의 개발도상국](www.youtube.com/watch?v=T0DO1C8uYP8&t=612s) 유튜브도 참고했음."
   ]
  },
  {
   "cell_type": "code",
   "execution_count": null,
   "metadata": {},
   "outputs": [],
   "source": [
    "# 아나콘다 GPU"
   ]
  },
  {
   "attachments": {},
   "cell_type": "markdown",
   "metadata": {},
   "source": [
    "## 환경설정"
   ]
  },
  {
   "cell_type": "code",
   "execution_count": null,
   "metadata": {},
   "outputs": [],
   "source": [
    "# 제일 힘듬..\n",
    "# SSH, vscode-ubuntu, conda env"
   ]
  },
  {
   "attachments": {},
   "cell_type": "markdown",
   "metadata": {},
   "source": [
    "## 코드에서.."
   ]
  },
  {
   "cell_type": "code",
   "execution_count": null,
   "metadata": {},
   "outputs": [],
   "source": []
  }
 ],
 "metadata": {
  "kernelspec": {
   "display_name": "ML",
   "language": "python",
   "name": "python3"
  },
  "language_info": {
   "name": "python",
   "version": "3.10.9 | packaged by conda-forge | (main, Jan 11 2023, 15:15:40) [MSC v.1916 64 bit (AMD64)]"
  },
  "orig_nbformat": 4,
  "vscode": {
   "interpreter": {
    "hash": "85ceb170a46183f1a7e0663fa1bfaf6582e83c617295d9a5086de71a269a23da"
   }
  }
 },
 "nbformat": 4,
 "nbformat_minor": 2
}
